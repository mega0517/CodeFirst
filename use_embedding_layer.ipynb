{
 "cells": [
  {
   "cell_type": "markdown",
   "metadata": {},
   "source": [
    "## 토큰화 작업 수행하기"
   ]
  },
  {
   "cell_type": "code",
   "execution_count": 1,
   "metadata": {},
   "outputs": [
    {
     "name": "stdout",
     "output_type": "stream",
     "text": [
      "{'<OOV>': 1, 'you': 2, 'are': 3, 'the': 4, 'best': 5, 'nice': 6}\n",
      "--------------------\n",
      "sequences: [[2, 3, 4, 5], [2, 3, 4, 6]]\n",
      "\n",
      "binary_vectors:\n",
      " [[0. 0. 1. 1. 1. 1. 0. 0. 0. 0.]\n",
      " [0. 0. 1. 1. 1. 0. 1. 0. 0. 0.]]\n",
      "\n",
      "test sequences: [[2, 3, 4, 1]]\n"
     ]
    }
   ],
   "source": [
    "from tensorflow.keras.preprocessing.text import Tokenizer\n",
    "from tensorflow.keras.utils import to_categorical\n",
    "\n",
    "texts = ['You are the Best', \n",
    "         'You are the Nice']\n",
    "\n",
    "tokenizer = Tokenizer(num_words = 10, oov_token = '<OOV>')\n",
    "tokenizer.fit_on_texts(texts)\n",
    "\n",
    "# 텍스트 데이터를 정수 인덱스 형태로 변환합니다.\n",
    "sequences = tokenizer.texts_to_sequences(texts)\n",
    "\n",
    "# 이진 형태로 인코딩합니다.\n",
    "binary_results = tokenizer.sequences_to_matrix(sequences, mode = 'binary')\n",
    "\n",
    "print(tokenizer.word_index)\n",
    "print('--------------------')\n",
    "\n",
    "print(f'sequences: {sequences}\\n')\n",
    "print(f'binary_vectors:\\n {binary_results}\\n')\n",
    "# 원-핫 형태로 인코딩합니다.\n",
    "# print(to_categorical(sequences))\n",
    "\n",
    "test_text = ['You are the One']\n",
    "test_seq = tokenizer.texts_to_sequences(test_text)\n",
    "\n",
    "print(f'test sequences: {test_seq}')\n"
   ]
  },
  {
   "cell_type": "markdown",
   "metadata": {},
   "source": [
    "## 데이터셋 다운받기"
   ]
  },
  {
   "cell_type": "code",
   "execution_count": 2,
   "metadata": {},
   "outputs": [
    {
     "name": "stdout",
     "output_type": "stream",
     "text": [
      "Downloading data from https://storage.googleapis.com/tensorflow/tf-keras-datasets/imdb.npz\n",
      "17465344/17464789 [==============================] - 1s 0us/step\n"
     ]
    },
    {
     "name": "stderr",
     "output_type": "stream",
     "text": [
      "C:\\Users\\bhkim\\.conda\\envs\\keras_study\\lib\\site-packages\\tensorflow_core\\python\\keras\\datasets\\imdb.py:129: VisibleDeprecationWarning: Creating an ndarray from ragged nested sequences (which is a list-or-tuple of lists-or-tuples-or ndarrays with different lengths or shapes) is deprecated. If you meant to do this, you must specify 'dtype=object' when creating the ndarray\n",
      "  x_train, y_train = np.array(xs[:idx]), np.array(labels[:idx])\n",
      "C:\\Users\\bhkim\\.conda\\envs\\keras_study\\lib\\site-packages\\tensorflow_core\\python\\keras\\datasets\\imdb.py:130: VisibleDeprecationWarning: Creating an ndarray from ragged nested sequences (which is a list-or-tuple of lists-or-tuples-or ndarrays with different lengths or shapes) is deprecated. If you meant to do this, you must specify 'dtype=object' when creating the ndarray\n",
      "  x_test, y_test = np.array(xs[idx:]), np.array(labels[idx:])\n"
     ]
    }
   ],
   "source": [
    "from tensorflow.keras.datasets import imdb\n",
    "\n",
    "num_words = 10000\n",
    "(X_train, y_train), (X_test, y_test) = imdb.load_data(num_words=num_words)"
   ]
  },
  {
   "cell_type": "markdown",
   "metadata": {},
   "source": [
    "## 데이터 형태 확인하기"
   ]
  },
  {
   "cell_type": "code",
   "execution_count": 3,
   "metadata": {},
   "outputs": [
    {
     "name": "stdout",
     "output_type": "stream",
     "text": [
      "(25000,) (25000,)\n",
      "(25000,) (25000,)\n"
     ]
    }
   ],
   "source": [
    "print(X_train.shape, y_train.shape)\n",
    "print(X_test.shape, y_test.shape)"
   ]
  },
  {
   "cell_type": "markdown",
   "metadata": {},
   "source": [
    "## 첫 번째 데이터 확인하기"
   ]
  },
  {
   "cell_type": "code",
   "execution_count": 4,
   "metadata": {},
   "outputs": [
    {
     "name": "stdout",
     "output_type": "stream",
     "text": [
      "[1, 14, 22, 16, 43, 530, 973, 1622, 1385, 65, 458, 4468, 66, 3941, 4, 173, 36, 256, 5, 25, 100, 43, 838, 112, 50, 670, 2, 9, 35, 480, 284, 5, 150, 4, 172, 112, 167, 2, 336, 385, 39, 4, 172, 4536, 1111, 17, 546, 38, 13, 447, 4, 192, 50, 16, 6, 147, 2025, 19, 14, 22, 4, 1920, 4613, 469, 4, 22, 71, 87, 12, 16, 43, 530, 38, 76, 15, 13, 1247, 4, 22, 17, 515, 17, 12, 16, 626, 18, 2, 5, 62, 386, 12, 8, 316, 8, 106, 5, 4, 2223, 5244, 16, 480, 66, 3785, 33, 4, 130, 12, 16, 38, 619, 5, 25, 124, 51, 36, 135, 48, 25, 1415, 33, 6, 22, 12, 215, 28, 77, 52, 5, 14, 407, 16, 82, 2, 8, 4, 107, 117, 5952, 15, 256, 4, 2, 7, 3766, 5, 723, 36, 71, 43, 530, 476, 26, 400, 317, 46, 7, 4, 2, 1029, 13, 104, 88, 4, 381, 15, 297, 98, 32, 2071, 56, 26, 141, 6, 194, 7486, 18, 4, 226, 22, 21, 134, 476, 26, 480, 5, 144, 30, 5535, 18, 51, 36, 28, 224, 92, 25, 104, 4, 226, 65, 16, 38, 1334, 88, 12, 16, 283, 5, 16, 4472, 113, 103, 32, 15, 16, 5345, 19, 178, 32]\n",
      "-------\n",
      "1\n"
     ]
    }
   ],
   "source": [
    "print(X_train[0])\n",
    "print('-------')\n",
    "print(y_train[0])"
   ]
  },
  {
   "cell_type": "markdown",
   "metadata": {},
   "source": [
    "## IMDB 데이터셋에서 가장 빈번하게 사용되는 3개의 단어"
   ]
  },
  {
   "cell_type": "code",
   "execution_count": 5,
   "metadata": {},
   "outputs": [
    {
     "name": "stdout",
     "output_type": "stream",
     "text": [
      "Downloading data from https://storage.googleapis.com/tensorflow/tf-keras-datasets/imdb_word_index.json\n",
      "1646592/1641221 [==============================] - 0s 0us/step\n",
      "1 번째로 가장 많이 쓰인 단어 = the\n",
      "2 번째로 가장 많이 쓰인 단어 = and\n",
      "3 번째로 가장 많이 쓰인 단어 = a\n"
     ]
    }
   ],
   "source": [
    "imdb_get_word_index = {}\n",
    "\n",
    "for key, value in imdb.get_word_index().items():\n",
    "    imdb_get_word_index[value] = key\n",
    "    \n",
    "for i in range(1, 4):\n",
    "    print('{} 번째로 가장 많이 쓰인 단어 = {}'.format(i, imdb_get_word_index[i]))"
   ]
  },
  {
   "cell_type": "markdown",
   "metadata": {},
   "source": [
    "## 데이터를 동일한 길이로 맞추기"
   ]
  },
  {
   "cell_type": "code",
   "execution_count": 6,
   "metadata": {},
   "outputs": [
    {
     "name": "stdout",
     "output_type": "stream",
     "text": [
      "Before pad_sequences:  218\n",
      "After pad_sequences:  500\n"
     ]
    }
   ],
   "source": [
    "from tensorflow.keras.preprocessing.sequence import pad_sequences\n",
    "\n",
    "max_len = 500\n",
    "\n",
    "print('Before pad_sequences: ', len(X_train[0]))\n",
    "\n",
    "pad_X_train = pad_sequences(X_train, maxlen=max_len, padding = 'pre')\n",
    "pad_X_test = pad_sequences(X_test, maxlen=max_len, padding = 'pre')\n",
    "\n",
    "print('After pad_sequences: ', len(pad_X_train[0]))"
   ]
  },
  {
   "cell_type": "markdown",
   "metadata": {},
   "source": [
    "## Embedding 층을 사용하여 모델 구성하기"
   ]
  },
  {
   "cell_type": "code",
   "execution_count": 7,
   "metadata": {},
   "outputs": [],
   "source": [
    "from tensorflow.keras.models import Sequential\n",
    "from tensorflow.keras.layers import Dense, Embedding, Flatten\n",
    "\n",
    "model = Sequential()\n",
    "\n",
    "# 이 층은 모델의 제일 첫 번째 층으로만 사용할 수 있습니다.\n",
    "# Flatten 층을 사용하기 위해 input_length를 전달합니다.\n",
    "model.add(Embedding(input_dim = num_words, output_dim = 32, input_length = max_len))\n",
    "model.add(Flatten())\n",
    "model.add(Dense(1, activation = 'sigmoid'))\n",
    "\n",
    "model.compile(optimizer='adam',\n",
    "             loss = 'binary_crossentropy',\n",
    "             metrics = ['acc'])"
   ]
  },
  {
   "cell_type": "code",
   "execution_count": 8,
   "metadata": {},
   "outputs": [
    {
     "name": "stdout",
     "output_type": "stream",
     "text": [
      "Model: \"sequential\"\n",
      "_________________________________________________________________\n",
      "Layer (type)                 Output Shape              Param #   \n",
      "=================================================================\n",
      "embedding (Embedding)        (None, 500, 32)           320000    \n",
      "_________________________________________________________________\n",
      "flatten (Flatten)            (None, 16000)             0         \n",
      "_________________________________________________________________\n",
      "dense (Dense)                (None, 1)                 16001     \n",
      "=================================================================\n",
      "Total params: 336,001\n",
      "Trainable params: 336,001\n",
      "Non-trainable params: 0\n",
      "_________________________________________________________________\n"
     ]
    }
   ],
   "source": [
    "model.summary()"
   ]
  },
  {
   "cell_type": "markdown",
   "metadata": {},
   "source": [
    "## 모델 학습시키기"
   ]
  },
  {
   "cell_type": "code",
   "execution_count": 9,
   "metadata": {},
   "outputs": [
    {
     "name": "stdout",
     "output_type": "stream",
     "text": [
      "Train on 20000 samples, validate on 5000 samples\n",
      "Epoch 1/30\n",
      "20000/20000 [==============================] - 7s 340us/sample - loss: 0.4484 - acc: 0.7840 - val_loss: 0.2977 - val_acc: 0.8766\n",
      "Epoch 2/30\n",
      "20000/20000 [==============================] - 5s 268us/sample - loss: 0.1992 - acc: 0.9271 - val_loss: 0.2749 - val_acc: 0.8870\n",
      "Epoch 3/30\n",
      "20000/20000 [==============================] - 6s 297us/sample - loss: 0.1068 - acc: 0.9687 - val_loss: 0.3016 - val_acc: 0.8828\n",
      "Epoch 4/30\n",
      "20000/20000 [==============================] - 6s 308us/sample - loss: 0.0505 - acc: 0.9909 - val_loss: 0.3136 - val_acc: 0.8860\n",
      "Epoch 5/30\n",
      "20000/20000 [==============================] - 7s 338us/sample - loss: 0.0236 - acc: 0.9978 - val_loss: 0.3407 - val_acc: 0.8840\n",
      "Epoch 6/30\n",
      "20000/20000 [==============================] - 6s 291us/sample - loss: 0.0120 - acc: 0.9995 - val_loss: 0.3747 - val_acc: 0.8818\n",
      "Epoch 7/30\n",
      "20000/20000 [==============================] - 6s 309us/sample - loss: 0.0066 - acc: 0.9998 - val_loss: 0.3926 - val_acc: 0.8816\n",
      "Epoch 8/30\n",
      "20000/20000 [==============================] - 6s 304us/sample - loss: 0.0038 - acc: 0.9999 - val_loss: 0.4163 - val_acc: 0.8806\n",
      "Epoch 9/30\n",
      "20000/20000 [==============================] - 6s 301us/sample - loss: 0.0024 - acc: 0.9999 - val_loss: 0.4424 - val_acc: 0.8794\n",
      "Epoch 10/30\n",
      "20000/20000 [==============================] - 6s 317us/sample - loss: 0.0015 - acc: 1.0000 - val_loss: 0.4650 - val_acc: 0.8780\n",
      "Epoch 11/30\n",
      "20000/20000 [==============================] - 6s 305us/sample - loss: 9.6556e-04 - acc: 1.0000 - val_loss: 0.4817 - val_acc: 0.8788\n",
      "Epoch 12/30\n",
      "20000/20000 [==============================] - 6s 325us/sample - loss: 6.2591e-04 - acc: 1.0000 - val_loss: 0.4994 - val_acc: 0.8792\n",
      "Epoch 13/30\n",
      "20000/20000 [==============================] - 6s 288us/sample - loss: 4.2230e-04 - acc: 1.0000 - val_loss: 0.5196 - val_acc: 0.8800\n",
      "Epoch 14/30\n",
      "20000/20000 [==============================] - 6s 278us/sample - loss: 2.9063e-04 - acc: 1.0000 - val_loss: 0.5399 - val_acc: 0.8786\n",
      "Epoch 15/30\n",
      "20000/20000 [==============================] - 6s 316us/sample - loss: 1.9643e-04 - acc: 1.0000 - val_loss: 0.5573 - val_acc: 0.8782\n",
      "Epoch 16/30\n",
      "20000/20000 [==============================] - 6s 283us/sample - loss: 1.3904e-04 - acc: 1.0000 - val_loss: 0.5780 - val_acc: 0.8790\n",
      "Epoch 17/30\n",
      "20000/20000 [==============================] - 6s 319us/sample - loss: 9.6526e-05 - acc: 1.0000 - val_loss: 0.5969 - val_acc: 0.8782\n",
      "Epoch 18/30\n",
      "20000/20000 [==============================] - 7s 335us/sample - loss: 6.6687e-05 - acc: 1.0000 - val_loss: 0.6154 - val_acc: 0.8780\n",
      "Epoch 19/30\n",
      "20000/20000 [==============================] - 6s 302us/sample - loss: 4.6986e-05 - acc: 1.0000 - val_loss: 0.6331 - val_acc: 0.8780\n",
      "Epoch 20/30\n",
      "20000/20000 [==============================] - 6s 311us/sample - loss: 3.3077e-05 - acc: 1.0000 - val_loss: 0.6522 - val_acc: 0.8774\n",
      "Epoch 21/30\n",
      "20000/20000 [==============================] - 6s 306us/sample - loss: 2.3477e-05 - acc: 1.0000 - val_loss: 0.6713 - val_acc: 0.8766\n",
      "Epoch 22/30\n",
      "20000/20000 [==============================] - 6s 291us/sample - loss: 1.6418e-05 - acc: 1.0000 - val_loss: 0.6902 - val_acc: 0.8760\n",
      "Epoch 23/30\n",
      "20000/20000 [==============================] - 6s 311us/sample - loss: 1.1818e-05 - acc: 1.0000 - val_loss: 0.7065 - val_acc: 0.8764\n",
      "Epoch 24/30\n",
      "20000/20000 [==============================] - 5s 272us/sample - loss: 8.3762e-06 - acc: 1.0000 - val_loss: 0.7247 - val_acc: 0.8762\n",
      "Epoch 25/30\n",
      "20000/20000 [==============================] - 6s 305us/sample - loss: 6.0768e-06 - acc: 1.0000 - val_loss: 0.7434 - val_acc: 0.8764\n",
      "Epoch 26/30\n",
      "20000/20000 [==============================] - 6s 306us/sample - loss: 4.3920e-06 - acc: 1.0000 - val_loss: 0.7621 - val_acc: 0.8756\n",
      "Epoch 27/30\n",
      "20000/20000 [==============================] - 6s 300us/sample - loss: 3.1598e-06 - acc: 1.0000 - val_loss: 0.7795 - val_acc: 0.8760\n",
      "Epoch 28/30\n",
      "20000/20000 [==============================] - 6s 294us/sample - loss: 2.3062e-06 - acc: 1.0000 - val_loss: 0.7969 - val_acc: 0.8756\n",
      "Epoch 29/30\n",
      "20000/20000 [==============================] - 6s 307us/sample - loss: 1.7116e-06 - acc: 1.0000 - val_loss: 0.8138 - val_acc: 0.8768\n",
      "Epoch 30/30\n",
      "20000/20000 [==============================] - 6s 312us/sample - loss: 1.2738e-06 - acc: 1.0000 - val_loss: 0.8323 - val_acc: 0.8758\n"
     ]
    }
   ],
   "source": [
    "history = model.fit(pad_X_train, y_train, \n",
    "                    batch_size = 32, \n",
    "                    epochs = 30, \n",
    "                    validation_split = 0.2)"
   ]
  },
  {
   "cell_type": "markdown",
   "metadata": {},
   "source": [
    "## 모델 평가하기"
   ]
  },
  {
   "cell_type": "code",
   "execution_count": 10,
   "metadata": {},
   "outputs": [
    {
     "name": "stdout",
     "output_type": "stream",
     "text": [
      "25000/25000 [==============================] - 2s 96us/sample - loss: 0.8218 - acc: 0.8710\n"
     ]
    },
    {
     "data": {
      "text/plain": [
       "[0.8218294218897819, 0.871]"
      ]
     },
     "execution_count": 10,
     "metadata": {},
     "output_type": "execute_result"
    }
   ],
   "source": [
    "model.evaluate(pad_X_test, y_test)"
   ]
  },
  {
   "cell_type": "markdown",
   "metadata": {},
   "source": [
    "## 학습과정 확인하기"
   ]
  },
  {
   "cell_type": "code",
   "execution_count": 11,
   "metadata": {},
   "outputs": [
    {
     "data": {
      "image/png": "[encoded data removed]",
      "text/plain": [
       "<Figure size 720x360 with 2 Axes>"
      ]
     },
     "metadata": {
      "needs_background": "light"
     },
     "output_type": "display_data"
    }
   ],
   "source": [
    "import matplotlib.pyplot as plt\n",
    "\n",
    "his_dict = history.history\n",
    "loss = his_dict['loss']\n",
    "val_loss = his_dict['val_loss'] \n",
    "\n",
    "epochs = range(1, len(loss) + 1)\n",
    "fig = plt.figure(figsize = (10, 5))\n",
    "\n",
    "# 훈련 및 검증 손실 그리기\n",
    "ax1 = fig.add_subplot(1, 2, 1)\n",
    "ax1.plot(epochs, loss, color = 'blue', label = 'train_loss')\n",
    "ax1.plot(epochs, val_loss, color = 'orange', label = 'val_loss')\n",
    "ax1.set_title('train and val loss')\n",
    "ax1.set_xlabel('epochs')\n",
    "ax1.set_ylabel('loss')\n",
    "ax1.legend()\n",
    "\n",
    "acc = his_dict['acc']\n",
    "val_acc = his_dict['val_acc']\n",
    "\n",
    "# 훈련 및 검증 정확도 그리기\n",
    "ax2 = fig.add_subplot(1, 2, 2)\n",
    "ax2.plot(epochs, acc, color = 'blue', label = 'train_acc')\n",
    "ax2.plot(epochs, val_acc, color = 'orange', label = 'val_acc')\n",
    "ax2.set_title('train and val acc')\n",
    "ax2.set_xlabel('epochs')\n",
    "ax2.set_ylabel('acc')\n",
    "ax2.legend()\n",
    "\n",
    "plt.show()"
   ]
  }
 ],
 "metadata": {
  "kernelspec": {
   "display_name": "Python 3",
   "language": "python",
   "name": "python3"
  },
  "language_info": {
   "codemirror_mode": {
    "name": "ipython",
    "version": 3
   },
   "file_extension": ".py",
   "mimetype": "text/x-python",
   "name": "python",
   "nbconvert_exporter": "python",
   "pygments_lexer": "ipython3",
   "version": "3.6.13"
  }
 },
 "nbformat": 4,
 "nbformat_minor": 2
}
